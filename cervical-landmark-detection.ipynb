{
 "cells": [
  {
   "cell_type": "code",
   "execution_count": 6,
   "metadata": {
    "_cell_guid": "b1076dfc-b9ad-4769-8c92-a6c4dae69d19",
    "_uuid": "8f2839f25d086af736a60e9eeb907d3b93b6e0e5",
    "execution": {
     "iopub.execute_input": "2025-07-13T17:13:01.963847Z",
     "iopub.status.busy": "2025-07-13T17:13:01.963311Z",
     "iopub.status.idle": "2025-07-13T17:13:01.967839Z",
     "shell.execute_reply": "2025-07-13T17:13:01.967282Z",
     "shell.execute_reply.started": "2025-07-13T17:13:01.963828Z"
    },
    "trusted": true
   },
   "outputs": [
    {
     "name": "stderr",
     "output_type": "stream",
     "text": [
      "c:\\Users\\nphie\\miniconda3\\Lib\\site-packages\\tqdm\\auto.py:21: TqdmWarning: IProgress not found. Please update jupyter and ipywidgets. See https://ipywidgets.readthedocs.io/en/stable/user_install.html\n",
      "  from .autonotebook import tqdm as notebook_tqdm\n"
     ]
    }
   ],
   "source": [
    "import torch\n",
    "from torch.utils.data import DataLoader, Dataset\n",
    "from tqdm import tqdm\n",
    "import torch.nn.functional as F\n",
    "import segmentation_models_pytorch as smp\n",
    "from albumentations.pytorch import ToTensorV2\n",
    "import albumentations as A\n",
    "import os\n",
    "import json\n",
    "from PIL import Image\n",
    "import numpy as np\n",
    "import cv2\n",
    "from scipy.ndimage import center_of_mass\n",
    "import itertools\n",
    "from sklearn.model_selection import train_test_split"
   ]
  },
  {
   "cell_type": "code",
   "execution_count": 2,
   "metadata": {
    "execution": {
     "iopub.execute_input": "2025-07-13T17:08:28.497420Z",
     "iopub.status.busy": "2025-07-13T17:08:28.497162Z",
     "iopub.status.idle": "2025-07-13T17:08:29.450749Z",
     "shell.execute_reply": "2025-07-13T17:08:29.450010Z",
     "shell.execute_reply.started": "2025-07-13T17:08:28.497402Z"
    },
    "trusted": true
   },
   "outputs": [],
   "source": [
    "with open('./data/default.json') as f:\n",
    "    data = json.load(f)\n",
    "items = data['items']\n",
    "\n",
    "train_val_items, test_items = train_test_split(items, test_size=0.1, random_state=42)\n",
    "train_items, val_items = train_test_split(train_val_items, test_size=0.1, random_state=42)"
   ]
  },
  {
   "cell_type": "code",
   "execution_count": 3,
   "metadata": {
    "execution": {
     "iopub.execute_input": "2025-07-13T17:08:50.892586Z",
     "iopub.status.busy": "2025-07-13T17:08:50.892019Z",
     "iopub.status.idle": "2025-07-13T17:08:50.903150Z",
     "shell.execute_reply": "2025-07-13T17:08:50.902347Z",
     "shell.execute_reply.started": "2025-07-13T17:08:50.892561Z"
    },
    "trusted": true
   },
   "outputs": [],
   "source": [
    "transform_train = A.Compose([\n",
    "    A.Affine(scale=(0.9, 1.1), translate_percent=(0.05, 0.05), rotate=(-10, 10), shear=(-5, 5), p=0.7),\n",
    "    A.HorizontalFlip(p=0.5),\n",
    "    A.RandomBrightnessContrast(p=0.2),\n",
    "    A.Normalize(mean=(0.485,), std=(0.229,)),\n",
    "    ToTensorV2()\n",
    "])\n",
    "\n",
    "transform_val = A.Compose([\n",
    "    A.Normalize(mean=(0.485,), std=(0.229,  )),\n",
    "    ToTensorV2()\n",
    "])"
   ]
  },
  {
   "cell_type": "code",
   "execution_count": 19,
   "metadata": {
    "execution": {
     "iopub.execute_input": "2025-07-13T17:10:19.615236Z",
     "iopub.status.busy": "2025-07-13T17:10:19.614936Z",
     "iopub.status.idle": "2025-07-13T17:10:19.626411Z",
     "shell.execute_reply": "2025-07-13T17:10:19.625664Z",
     "shell.execute_reply.started": "2025-07-13T17:10:19.615214Z"
    },
    "trusted": true
   },
   "outputs": [],
   "source": [
    "class CervicalDataset(Dataset):\n",
    "    def __init__(self, items, img_dir, image_size=(256, 256), transform=None, num_landmarks=4):\n",
    "        self.items = items\n",
    "        self.img_dir = img_dir\n",
    "        self.image_size = image_size\n",
    "        self.transform = transform\n",
    "        self.num_landmarks = num_landmarks\n",
    "\n",
    "    def __len__(self):\n",
    "        return len(self.items)\n",
    "\n",
    "    def _generate_heatmap(self, points, height, width, sigma=4):\n",
    "        heatmaps = np.zeros((self.num_landmarks, height, width), dtype=np.float32)\n",
    "        for i, (x, y) in enumerate(points):\n",
    "            if x < 0 or y < 0:\n",
    "                continue\n",
    "            xx, yy = np.meshgrid(np.arange(width), np.arange(height))\n",
    "            heatmaps[i] = np.exp(-((xx - x)**2 + (yy - y)**2) / (2 * sigma**2))\n",
    "        return heatmaps\n",
    "\n",
    "    def __getitem__(self, idx):\n",
    "        item = self.items[idx]\n",
    "        image_name = item['id']\n",
    "        img_path = os.path.join(self.img_dir, image_name + '.png')\n",
    "        image = Image.open(img_path).convert(\"L\")\n",
    "        image = np.array(image)\n",
    "\n",
    "        h_ori, w_ori = image.shape\n",
    "        h, w = self.image_size\n",
    "        \n",
    "        keypoints = [(-1, -1)] * self.num_landmarks\n",
    "        for ann in item['annotations']:\n",
    "            if ann['type'] != 'points':\n",
    "                continue\n",
    "            lid = ann['label_id']\n",
    "            x, y = ann['points']\n",
    "            if lid == 1:\n",
    "                keypoints[0] = (x * w / w_ori, y * h / h_ori)\n",
    "            elif lid == 2:\n",
    "                keypoints[1] = (x * w / w_ori, y * h / h_ori)\n",
    "            elif lid == 21:\n",
    "                keypoints[2] = (x * w / w_ori, y * h / h_ori)\n",
    "            elif lid == 22:\n",
    "                keypoints[3] = (x * w / w_ori, y * h / h_ori)\n",
    "\n",
    "        image = cv2.resize(image, (w, h))\n",
    "\n",
    "        heatmaps = self._generate_heatmap(keypoints, h, w)\n",
    "\n",
    "        conf_map = np.zeros((2, h, w), dtype=np.float32)\n",
    "        if all([kp[0] >= 0 for kp in keypoints]):\n",
    "            line1 = cv2.line(np.zeros((h, w), dtype=np.uint8),\n",
    "                            tuple(np.round(keypoints[0]).astype(int)),\n",
    "                            tuple(np.round(keypoints[1]).astype(int)), 1, 1)\n",
    "            line2 = cv2.line(np.zeros((h, w), dtype=np.uint8),\n",
    "                            tuple(np.round(keypoints[2]).astype(int)),\n",
    "                            tuple(np.round(keypoints[3]).astype(int)), 1, 1)\n",
    "            conf_map[0] = line1\n",
    "            conf_map[1] = line2\n",
    "\n",
    "        target = np.concatenate([heatmaps, conf_map], axis=0)\n",
    "\n",
    "        if self.transform:\n",
    "            augmented = self.transform(image=image, mask=target.transpose(1, 2, 0))\n",
    "            image = augmented['image']\n",
    "            target = augmented['mask'].permute(2, 0, 1)\n",
    "\n",
    "        return image, target\n",
    "        "
   ]
  },
  {
   "cell_type": "code",
   "execution_count": 5,
   "metadata": {
    "execution": {
     "iopub.execute_input": "2025-07-13T17:12:31.338513Z",
     "iopub.status.busy": "2025-07-13T17:12:31.338212Z",
     "iopub.status.idle": "2025-07-13T17:12:31.343003Z",
     "shell.execute_reply": "2025-07-13T17:12:31.342242Z",
     "shell.execute_reply.started": "2025-07-13T17:12:31.338489Z"
    },
    "trusted": true
   },
   "outputs": [],
   "source": [
    "img_path = \"./data/images\"\n",
    "train_dataset = CervicalDataset(train_items, img_path, transform=transform_train)\n",
    "val_dataset = CervicalDataset(val_items, img_path, transform=transform_val)\n",
    "train_loader = DataLoader(train_dataset, batch_size=8, shuffle=True)\n",
    "val_loader = DataLoader(val_dataset, batch_size=8, shuffle=False)"
   ]
  },
  {
   "cell_type": "code",
   "execution_count": 6,
   "metadata": {
    "execution": {
     "iopub.execute_input": "2025-07-13T17:11:14.950458Z",
     "iopub.status.busy": "2025-07-13T17:11:14.949747Z",
     "iopub.status.idle": "2025-07-13T17:11:15.459371Z",
     "shell.execute_reply": "2025-07-13T17:11:15.458535Z",
     "shell.execute_reply.started": "2025-07-13T17:11:14.950435Z"
    },
    "trusted": true
   },
   "outputs": [],
   "source": [
    "model = smp.DeepLabV3Plus(\n",
    "    encoder_name='efficientnet-b4',\n",
    "    encoder_weights='imagenet',\n",
    "    activation=None,\n",
    "    in_channels=1,\n",
    "    classes=6\n",
    ")\n",
    "model = model.cuda()"
   ]
  },
  {
   "cell_type": "code",
   "execution_count": 7,
   "metadata": {
    "execution": {
     "iopub.execute_input": "2025-07-13T17:11:22.529259Z",
     "iopub.status.busy": "2025-07-13T17:11:22.528738Z",
     "iopub.status.idle": "2025-07-13T17:11:22.534848Z",
     "shell.execute_reply": "2025-07-13T17:11:22.534041Z",
     "shell.execute_reply.started": "2025-07-13T17:11:22.529234Z"
    },
    "trusted": true
   },
   "outputs": [],
   "source": [
    "optimizer = torch.optim.Adam(model.parameters(), lr=1e-4)\n",
    "criterion = torch.nn.MSELoss()"
   ]
  },
  {
   "cell_type": "code",
   "execution_count": null,
   "metadata": {},
   "outputs": [],
   "source": [
    "def get_max_location(heatmap):\n",
    "    y, x = np.unravel_index(np.argmax(heatmap), heatmap.shape)\n",
    "    return np.array([x, y], dtype=np.float32)\n",
    "\n",
    "def get_keypoints_from_heatmap(heatmaps):\n",
    "    return [get_max_location(heatmap) for heatmap in heatmaps]\n",
    "\n",
    "def compute_nme(pred_keypoints, gt_keypoints):\n",
    "    pred_keypoints = np.array(pred_keypoints)\n",
    "    gt_keypoints = np.array(gt_keypoints)\n",
    "\n",
    "    error = np.linalg.norm(pred_keypoints - gt_keypoints, axis=1)\n",
    "    norm = np.linalg.norm(gt_keypoints[0] - gt_keypoints[-1]) + 1e-6\n",
    "    return np.mean(error) / norm\n",
    "\n",
    "def extract_keypoints_from_heatmap(heatmap):\n",
    "    all_candidates = heatmap_to_candidates(heatmap)\n",
    "    keypoints = []\n",
    "    best_scores = []\n",
    "\n",
    "    for i in range(2):\n",
    "        c1s, c2s = all_candidates[2 * i], all_candidates[2 * i + 1]\n",
    "        if not c1s or not c2s:\n",
    "            keypoints.extend([(0, 0), (0, 0)])\n",
    "            best_scores.append(0.0)\n",
    "            continue\n",
    "\n",
    "        scores = []\n",
    "        pairs = []\n",
    "        conf_map = heatmap[4 + i]\n",
    "        for c1, c2 in itertools.product(c1s, c2s):\n",
    "            line = np.zeros_like(conf_map)\n",
    "            p1 = tuple(np.round(c1).astype(int))\n",
    "            p2 = tuple(np.round(c2).astype(int))\n",
    "            cv2.line(line, p1, p2, 1, 1)\n",
    "            score = (conf_map * line).sum() / (line.sum() + 1e-6)\n",
    "            scores.append(score)\n",
    "            pairs.append((c1, c2))\n",
    "        best = pairs[np.argmax(scores)]\n",
    "        best_scores.append(np.max(scores))\n",
    "        keypoints.extend(best)\n",
    "    return keypoints, best_scores\n",
    "\n",
    "def heatmap_to_candidates(heatmap):\n",
    "    all_candidates = []\n",
    "    for ch in heatmap[:4]:\n",
    "        max_val = ch.max()\n",
    "        if max_val <= 0:\n",
    "            raise RuntimeError('Empty heatmap')\n",
    "        thresh = max_val / 2\n",
    "        labels = (ch >= thresh).astype(np.uint8)\n",
    "        labeled = cv2.connectedComponentsWithStats(labels, 8, cv2.CV_32S)[1]\n",
    "        candidates = []\n",
    "        for i in range(1, labeled.max() + 1):\n",
    "            mask = (labeled == i)\n",
    "            center = center_of_mass(ch * mask)\n",
    "            candidates.append(center[::-1])  # (x, y)\n",
    "        all_candidates.append(candidates)\n",
    "    return all_candidates"
   ]
  },
  {
   "cell_type": "code",
   "execution_count": 12,
   "metadata": {
    "execution": {
     "iopub.execute_input": "2025-07-13T17:11:35.078767Z",
     "iopub.status.busy": "2025-07-13T17:11:35.078215Z",
     "iopub.status.idle": "2025-07-13T17:11:35.084182Z",
     "shell.execute_reply": "2025-07-13T17:11:35.083405Z",
     "shell.execute_reply.started": "2025-07-13T17:11:35.078746Z"
    },
    "trusted": true
   },
   "outputs": [],
   "source": [
    "def train_one_epoch(model, loader, optimizer, criterion):\n",
    "    model.train()\n",
    "    running_loss = 0.0\n",
    "    for images, targets in tqdm(loader):\n",
    "        images = images.cuda()\n",
    "        targets = targets.cuda()\n",
    "        optimizer.zero_grad()\n",
    "        outputs = model(images)\n",
    "        loss = criterion(outputs, targets)\n",
    "        loss.backward()\n",
    "        optimizer.step()\n",
    "\n",
    "        running_loss += loss.item() * images.size(0)\n",
    "    return running_loss / len(loader.dataset)\n",
    "\n",
    "def evaluate(model, loader, criterion):\n",
    "    model.eval()\n",
    "    running_loss = 0.0\n",
    "    nmes = []\n",
    "    with torch.no_grad():\n",
    "        for images, targets in loader:\n",
    "            images = images.cuda()\n",
    "            targets = targets.cuda()\n",
    "            outputs = model(images)\n",
    "            loss = criterion(outputs, targets)\n",
    "            running_loss += loss.item() * images.size(0)\n",
    "            \n",
    "            for i in range(images.size(0)):\n",
    "                pred_heatmap = outputs[i, :6].cpu().numpy()\n",
    "                gt_heatmap = targets[i, :4].cpu().numpy()\n",
    "\n",
    "                pred_kps, _ = extract_keypoints_from_heatmap(pred_heatmap)\n",
    "                gt_kps = get_keypoints_from_heatmap(gt_heatmap)\n",
    "\n",
    "                nme = compute_nme(pred_kps, gt_kps)\n",
    "                nmes.append(nme)\n",
    "    return (running_loss / len(loader.dataset), np.mean(nmes))"
   ]
  },
  {
   "cell_type": "code",
   "execution_count": 13,
   "metadata": {
    "execution": {
     "iopub.execute_input": "2025-07-13T17:13:05.274717Z",
     "iopub.status.busy": "2025-07-13T17:13:05.273978Z"
    },
    "trusted": true
   },
   "outputs": [
    {
     "name": "stderr",
     "output_type": "stream",
     "text": [
      "  1%|          | 5/503 [00:07<12:34,  1.52s/it]\n"
     ]
    },
    {
     "ename": "KeyboardInterrupt",
     "evalue": "",
     "output_type": "error",
     "traceback": [
      "\u001b[31m---------------------------------------------------------------------------\u001b[39m",
      "\u001b[31mKeyboardInterrupt\u001b[39m                         Traceback (most recent call last)",
      "\u001b[36mCell\u001b[39m\u001b[36m \u001b[39m\u001b[32mIn[13]\u001b[39m\u001b[32m, line 15\u001b[39m\n\u001b[32m     13\u001b[39m         param.requires_grad = \u001b[38;5;28;01mTrue\u001b[39;00m\n\u001b[32m     14\u001b[39m     optimizer = torch.optim.Adam(model.parameters(), lr= \u001b[32m1e-4\u001b[39m)\n\u001b[32m---> \u001b[39m\u001b[32m15\u001b[39m train_loss = \u001b[43mtrain_one_epoch\u001b[49m\u001b[43m(\u001b[49m\u001b[43mmodel\u001b[49m\u001b[43m,\u001b[49m\u001b[43m \u001b[49m\u001b[43mtrain_loader\u001b[49m\u001b[43m,\u001b[49m\u001b[43m \u001b[49m\u001b[43moptimizer\u001b[49m\u001b[43m,\u001b[49m\u001b[43m \u001b[49m\u001b[43mcriterion\u001b[49m\u001b[43m)\u001b[49m\n\u001b[32m     16\u001b[39m val_loss, mean_nme = evaluate(model, val_loader, criterion)\n\u001b[32m     18\u001b[39m \u001b[38;5;28mprint\u001b[39m(\u001b[33mf\u001b[39m\u001b[33m\"\u001b[39m\u001b[33mEpoch \u001b[39m\u001b[38;5;132;01m{\u001b[39;00mepoch+\u001b[32m1\u001b[39m\u001b[38;5;132;01m}\u001b[39;00m\u001b[33m/\u001b[39m\u001b[38;5;132;01m{\u001b[39;00mnum_epochs\u001b[38;5;132;01m}\u001b[39;00m\u001b[33m | Train Loss: \u001b[39m\u001b[38;5;132;01m{\u001b[39;00mtrain_loss\u001b[38;5;132;01m:\u001b[39;00m\u001b[33m.4f\u001b[39m\u001b[38;5;132;01m}\u001b[39;00m\u001b[33m | Val Loss: \u001b[39m\u001b[38;5;132;01m{\u001b[39;00mval_loss\u001b[38;5;132;01m:\u001b[39;00m\u001b[33m.4f\u001b[39m\u001b[38;5;132;01m}\u001b[39;00m\u001b[33m | NME: \u001b[39m\u001b[38;5;132;01m{\u001b[39;00mmean_nme\u001b[38;5;132;01m:\u001b[39;00m\u001b[33m.4f\u001b[39m\u001b[38;5;132;01m}\u001b[39;00m\u001b[33m\"\u001b[39m)\n",
      "\u001b[36mCell\u001b[39m\u001b[36m \u001b[39m\u001b[32mIn[12]\u001b[39m\u001b[32m, line 13\u001b[39m, in \u001b[36mtrain_one_epoch\u001b[39m\u001b[34m(model, loader, optimizer, criterion)\u001b[39m\n\u001b[32m     10\u001b[39m     loss.backward()\n\u001b[32m     11\u001b[39m     optimizer.step()\n\u001b[32m---> \u001b[39m\u001b[32m13\u001b[39m     running_loss += \u001b[43mloss\u001b[49m\u001b[43m.\u001b[49m\u001b[43mitem\u001b[49m\u001b[43m(\u001b[49m\u001b[43m)\u001b[49m * images.size(\u001b[32m0\u001b[39m)\n\u001b[32m     14\u001b[39m \u001b[38;5;28;01mreturn\u001b[39;00m running_loss / \u001b[38;5;28mlen\u001b[39m(loader.dataset)\n",
      "\u001b[31mKeyboardInterrupt\u001b[39m: "
     ]
    }
   ],
   "source": [
    "num_epochs = 200\n",
    "patience = 8\n",
    "epoch_without_improvement = 0\n",
    "best_val_loss = float('inf')\n",
    "\n",
    "for param in model.encoder.parameters():\n",
    "    param.requires_grad = False\n",
    "\n",
    "for epoch in range(num_epochs):\n",
    "    if epoch == 10:\n",
    "        print(\"Unfreezing encoder...\")\n",
    "        for param in model.encoder.parameters():\n",
    "            param.requires_grad = True\n",
    "        optimizer = torch.optim.Adam(model.parameters(), lr= 1e-4)\n",
    "    train_loss = train_one_epoch(model, train_loader, optimizer, criterion)\n",
    "    val_loss, mean_nme = evaluate(model, val_loader, criterion)\n",
    "\n",
    "    print(f\"Epoch {epoch+1}/{num_epochs} | Train Loss: {train_loss:.4f} | Val Loss: {val_loss:.4f} | NME: {mean_nme:.4f}\")\n",
    "\n",
    "    if val_loss < best_val_loss:\n",
    "        best_val_loss = val_loss\n",
    "        epoch_without_improvement = 0\n",
    "        torch.save(model.state_dict(), 'best_model.pth')\n",
    "        print(\"Saved best model!\")\n",
    "    else:\n",
    "        epoch_without_improvement += 1\n",
    "        if epoch_without_improvement > patience:\n",
    "            break\n",
    "        "
   ]
  },
  {
   "cell_type": "code",
   "execution_count": null,
   "metadata": {},
   "outputs": [],
   "source": [
    "def calculate_cobb_angle(keypoints):\n",
    "    c2_a, c2_p, c7_a, c7_p = keypoints\n",
    "    vec1 = np.array(c2_a) - np.array(c2_p)\n",
    "    vec2 = np.array(c7_a) - np.array(c7_p)\n",
    "\n",
    "    vec1 = vec1 / np.linalg.norm(vec1)\n",
    "    vec2 = vec2 / np.linalg.norm(vec2)\n",
    "    \n",
    "    dot_product = np.dot(vec1, vec2)\n",
    "    dot_product = np.clip(dot_product, -1.0, 1.0)\n",
    "    angle_rad = np.arccos(dot_product)\n",
    "    \n",
    "    angle_deg = np.degrees(angle_rad)\n",
    "    \n",
    "    return angle_deg "
   ]
  },
  {
   "cell_type": "code",
   "execution_count": null,
   "metadata": {},
   "outputs": [
    {
     "ename": "NameError",
     "evalue": "name 'CervicalDataset' is not defined",
     "output_type": "error",
     "traceback": [
      "\u001b[31m---------------------------------------------------------------------------\u001b[39m",
      "\u001b[31mNameError\u001b[39m                                 Traceback (most recent call last)",
      "\u001b[36mCell\u001b[39m\u001b[36m \u001b[39m\u001b[32mIn[7]\u001b[39m\u001b[32m, line 44\u001b[39m\n\u001b[32m     40\u001b[39m         cv2.line(image_color, \u001b[38;5;28mtuple\u001b[39m(np.int32(keypoints[\u001b[32m2\u001b[39m])), \u001b[38;5;28mtuple\u001b[39m(np.int32(keypoints[\u001b[32m3\u001b[39m])), (\u001b[32m255\u001b[39m, \u001b[32m0\u001b[39m, \u001b[32m255\u001b[39m), thickness)\n\u001b[32m     42\u001b[39m     \u001b[38;5;28;01mreturn\u001b[39;00m image_color\n\u001b[32m---> \u001b[39m\u001b[32m44\u001b[39m test_dataset = \u001b[43mCervicalDataset\u001b[49m(test_items, img_path, transform=transform_val)\n\u001b[32m     45\u001b[39m test_loader = DataLoader(test_dataset, batch_size=\u001b[32m8\u001b[39m, shuffle=\u001b[38;5;28;01mFalse\u001b[39;00m)\n\u001b[32m     46\u001b[39m \u001b[38;5;66;03m# Get one image from test_loader\u001b[39;00m\n",
      "\u001b[31mNameError\u001b[39m: name 'CervicalDataset' is not defined"
     ]
    }
   ],
   "source": [
    "import torch\n",
    "import numpy as np\n",
    "import cv2\n",
    "import matplotlib.pyplot as plt\n",
    "\n",
    "model = smp.DeepLabV3Plus(\n",
    "    encoder_name='efficientnet-b4',\n",
    "    encoder_weights=None,\n",
    "    activation=None,\n",
    "    in_channels=1,\n",
    "    classes=6\n",
    ")\n",
    "model.load_state_dict(torch.load('./best_model (3).pth'))\n",
    "model = model.cuda().eval()\n",
    "\n",
    "def inference(model, image_tensor, device='cuda'):\n",
    "    model.eval()\n",
    "    with torch.no_grad():\n",
    "        image_tensor = image_tensor.float().unsqueeze(0).to(device)  # (1, 1, H, W)\n",
    "        output = model(image_tensor)  # (1, 6, H, W)\n",
    "        heatmap = output.squeeze(0).cpu().numpy()\n",
    "    keypoints, scores = extract_keypoints_from_heatmap(heatmap)\n",
    "    return keypoints, scores, heatmap\n",
    "\n",
    "def draw_predicted_keypoints(image_tensor, keypoints, radius=5, color=(0, 255, 0), thickness=2):\n",
    "    image = image_tensor.squeeze().cpu().numpy()\n",
    "    if image.max() <= 1:\n",
    "        image = (image * 255).astype(np.uint8)\n",
    "    image_color = cv2.cvtColor(image, cv2.COLOR_GRAY2BGR)\n",
    "\n",
    "    for (x, y) in keypoints:\n",
    "        if x >= 0 and y >= 0:\n",
    "            cv2.circle(image_color, (int(x), int(y)), radius, color, -1)\n",
    "\n",
    "    if keypoints[0][0] >= 0 and keypoints[1][0] >= 0:\n",
    "        cv2.line(image_color, tuple(np.int32(keypoints[0])), tuple(np.int32(keypoints[1])), (0, 255, 255), thickness)\n",
    "    if keypoints[2][0] >= 0 and keypoints[3][0] >= 0:\n",
    "        cv2.line(image_color, tuple(np.int32(keypoints[2])), tuple(np.int32(keypoints[3])), (255, 0, 255), thickness)\n",
    "\n",
    "    return image_color\n",
    "\n",
    "test_dataset = CervicalDataset(test_items, img_path, transform=transform_val)\n",
    "test_loader = DataLoader(test_dataset, batch_size=8, shuffle=False)\n",
    "image, target = next(iter(test_loader))\n",
    "image_tensor = image[0]\n",
    "keypoints, scores, heatmap = inference(model, image_tensor)\n",
    "print(calculate_cobb_angle(keypoints))\n",
    "gt_heatmap = target[0, :4].cpu().numpy()\n",
    "keypoints_2 = get_keypoints_from_heatmap(gt_heatmap)\n",
    "print(calculate_cobb_angle(keypoints_2))\n",
    "\n",
    "overlay = draw_predicted_keypoints(image_tensor, keypoints)\n",
    "\n",
    "plt.figure(figsize=(6, 6))\n",
    "plt.imshow(overlay)\n",
    "plt.title(\"Predicted Keypoints and Lines\")\n",
    "plt.axis(\"off\")\n",
    "plt.show()\n",
    "\n",
    "for i, (pt, score) in enumerate(zip(keypoints, scores)):\n",
    "    print(f\"Landmark {i}: ({pt[0]:.1f}, {pt[1]:.1f}) | Score: {score:.3f}\")\n",
    "\n"
   ]
  },
  {
   "cell_type": "code",
   "execution_count": null,
   "metadata": {},
   "outputs": [],
   "source": [
    "import cv2\n",
    "import torch\n",
    "import numpy as np\n",
    "from torchvision import transforms\n",
    "from PIL import Image\n",
    "\n",
    "def predict_cobb_from_image(image_path, model, device='cuda', image_size=(256, 256), visualize=True):\n",
    "    image = Image.open(image_path).convert(\"L\")\n",
    "    image = np.array(image)\n",
    "    orig_image = image.copy()\n",
    "    \n",
    "    image_resized = cv2.resize(image, image_size)\n",
    "    image_tensor = torch.tensor(image_resized / 255.0, dtype=torch.float32).unsqueeze(0).unsqueeze(0).to(device)\n",
    "\n",
    "    model.eval()\n",
    "    with torch.no_grad():\n",
    "        output = model(image_tensor)\n",
    "        heatmap = output.squeeze(0).cpu().numpy()\n",
    "\n",
    "    keypoints, _ = extract_keypoints_from_heatmap(heatmap)\n",
    "\n",
    "    def angle_between(p1, p2):\n",
    "        delta = np.array(p2) - np.array(p1)\n",
    "        angle = np.arctan2(delta[1], delta[0]) * 180 / np.pi\n",
    "        return angle\n",
    "    \n",
    "    angle1 = angle_between(keypoints[0], keypoints[1])\n",
    "    angle2 = angle_between(keypoints[2], keypoints[3])\n",
    "    cobb_angle = abs(angle1 - angle2)\n",
    "    \n",
    "    if visualize:\n",
    "        image_color = cv2.cvtColor(cv2.resize(orig_image, image_size), cv2.COLOR_GRAY2BGR)\n",
    "        for (x, y) in keypoints:\n",
    "            cv2.circle(image_color, (int(x), int(y)), 4, (0, 255, 0), -1)\n",
    "        cv2.line(image_color, tuple(np.int32(keypoints[0])), tuple(np.int32(keypoints[1])), (0, 255, 255), 2)\n",
    "        cv2.line(image_color, tuple(np.int32(keypoints[2])), tuple(np.int32(keypoints[3])), (255, 0, 255), 2)\n",
    "        cv2.putText(image_color, f\"Cobb: {cobb_angle:.2f} deg\", (10, 25),\n",
    "                    cv2.FONT_HERSHEY_SIMPLEX, 0.8, (255, 255, 255), 2)\n",
    "        plt.imshow(image_color)\n",
    "        plt.title(\"Predicted Cobb Angle\")\n",
    "        plt.axis(\"off\")\n",
    "        plt.show()\n",
    "\n",
    "    return cobb_angle, keypoints\n"
   ]
  },
  {
   "cell_type": "code",
   "execution_count": 1,
   "metadata": {},
   "outputs": [
    {
     "ename": "NameError",
     "evalue": "name 'predict_cobb_from_image' is not defined",
     "output_type": "error",
     "traceback": [
      "\u001b[31m---------------------------------------------------------------------------\u001b[39m",
      "\u001b[31mNameError\u001b[39m                                 Traceback (most recent call last)",
      "\u001b[36mCell\u001b[39m\u001b[36m \u001b[39m\u001b[32mIn[1]\u001b[39m\u001b[32m, line 1\u001b[39m\n\u001b[32m----> \u001b[39m\u001b[32m1\u001b[39m cobb_angle, keypoints = \u001b[43mpredict_cobb_from_image\u001b[49m(\u001b[33m\"\u001b[39m\u001b[33m./data/images/0031039.png\u001b[39m\u001b[33m\"\u001b[39m, model, device=\u001b[33m'\u001b[39m\u001b[33mcuda\u001b[39m\u001b[33m'\u001b[39m)\n\u001b[32m      2\u001b[39m \u001b[38;5;28mprint\u001b[39m(\u001b[33m\"\u001b[39m\u001b[33mPredicted Cobb Angle:\u001b[39m\u001b[33m\"\u001b[39m, cobb_angle)\n",
      "\u001b[31mNameError\u001b[39m: name 'predict_cobb_from_image' is not defined"
     ]
    }
   ],
   "source": [
    "cobb_angle, keypoints = predict_cobb_from_image(\"./data/images/0031039.png\", model, device='cuda')\n",
    "print(\"Predicted Cobb Angle:\", cobb_angle)"
   ]
  }
 ],
 "metadata": {
  "kaggle": {
   "accelerator": "nvidiaTeslaT4",
   "dataSources": [
    {
     "datasetId": 7429080,
     "sourceId": 11826164,
     "sourceType": "datasetVersion"
    }
   ],
   "dockerImageVersionId": 31090,
   "isGpuEnabled": true,
   "isInternetEnabled": true,
   "language": "python",
   "sourceType": "notebook"
  },
  "kernelspec": {
   "display_name": "base",
   "language": "python",
   "name": "python3"
  },
  "language_info": {
   "codemirror_mode": {
    "name": "ipython",
    "version": 3
   },
   "file_extension": ".py",
   "mimetype": "text/x-python",
   "name": "python",
   "nbconvert_exporter": "python",
   "pygments_lexer": "ipython3",
   "version": "3.12.3"
  }
 },
 "nbformat": 4,
 "nbformat_minor": 4
}
